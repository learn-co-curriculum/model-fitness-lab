{
 "cells": [
  {
   "cell_type": "markdown",
   "metadata": {},
   "source": [
    "# Evaluating Model Fitness\n",
    "\n",
    "## Detecting Overfitting and Underfitting\n",
    "\n",
    "## Objectives\n",
    "* Compare training and testing scores to detect overfit/underfit models\n",
    "* Use best practices to reduce overfitting in models\n",
    "* Use best practices to reduce underfitting in models"
   ]
  },
  {
   "cell_type": "markdown",
   "metadata": {},
   "source": [
    "## Evaluating Model Fitness\n",
    "\n",
    "In this lab, we're going to build a classifier on a small subset of the titanic dataset.  We'll make use of training and testing validation methods that we learned in previous labs to detect when our model is overfit or underfit.  We'll then implement strategies to fix our overfit and underfit models.  \n",
    "\n",
    "We'll start by importing all the libraries we'll need, and reading in the Titanic Dataset.  "
   ]
  },
  {
   "cell_type": "code",
   "execution_count": null,
   "metadata": {},
   "outputs": [],
   "source": [
    "import numpy as np\n",
    "import pandas as pd\n",
    "import matplotlib.pyplot as plt\n",
    "%matplotlib inline\n",
    "from sklearn.tree import DecisionTreeClassifier\n",
    "from sklearn.model_selection import train_test_split\n",
    "from sklearn.metrics import accuracy_score, f1_score\n",
    "\n"
   ]
  }
 ],
 "metadata": {
  "kernelspec": {
   "display_name": "Python 3",
   "language": "python",
   "name": "python3"
  },
  "language_info": {
   "codemirror_mode": {
    "name": "ipython",
    "version": 3
   },
   "file_extension": ".py",
   "mimetype": "text/x-python",
   "name": "python",
   "nbconvert_exporter": "python",
   "pygments_lexer": "ipython3",
   "version": "3.6.4"
  }
 },
 "nbformat": 4,
 "nbformat_minor": 2
}
